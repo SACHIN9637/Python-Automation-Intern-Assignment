{
  "nbformat": 4,
  "nbformat_minor": 0,
  "metadata": {
    "colab": {
      "provenance": []
    },
    "kernelspec": {
      "name": "python3",
      "display_name": "Python 3"
    },
    "language_info": {
      "name": "python"
    }
  },
  "cells": [
    {
      "cell_type": "markdown",
      "source": [
        "#Step 1: Data Cleaning Script\n",
        " Goal:\n",
        "\n",
        "\n",
        "*  Remove duplicates\n",
        "*  Normalize event participation values\n",
        "*  Flag missing or incomplete data\n",
        "*  Save a clean CSV\n",
        "\n",
        "Actions:\n",
        "* Remove duplicate email rows\n",
        "* Convert has_joined_event values from \"Yes/No\" to True/False\n",
        "\n",
        "Flag:\n",
        "* Missing/incomplete LinkedIn profiles\n",
        "* Blank job titles\n",
        "\n",
        "\n"
      ],
      "metadata": {
        "id": "mqjB-6vHsi5n"
      }
    },
    {
      "cell_type": "code",
      "execution_count": 7,
      "metadata": {
        "colab": {
          "base_uri": "https://localhost:8080/"
        },
        "id": "mvYrwquzqDoh",
        "outputId": "d1b8ec01-1922-4620-d364-fd655c319f5e"
      },
      "outputs": [
        {
          "output_type": "stream",
          "name": "stdout",
          "text": [
            "Data cleaning complete. File saved as: cleaned_output.csv\n"
          ]
        },
        {
          "output_type": "stream",
          "name": "stderr",
          "text": [
            "<ipython-input-7-5b7c2b17d77d>:11: SettingWithCopyWarning: \n",
            "A value is trying to be set on a copy of a slice from a DataFrame.\n",
            "Try using .loc[row_indexer,col_indexer] = value instead\n",
            "\n",
            "See the caveats in the documentation: https://pandas.pydata.org/pandas-docs/stable/user_guide/indexing.html#returning-a-view-versus-a-copy\n",
            "  df_cleaned['has_joined_event'] = (\n",
            "<ipython-input-7-5b7c2b17d77d>:25: SettingWithCopyWarning: \n",
            "A value is trying to be set on a copy of a slice from a DataFrame.\n",
            "Try using .loc[row_indexer,col_indexer] = value instead\n",
            "\n",
            "See the caveats in the documentation: https://pandas.pydata.org/pandas-docs/stable/user_guide/indexing.html#returning-a-view-versus-a-copy\n",
            "  df_cleaned['linkedin_invalid'] = df_cleaned['What is your LinkedIn profile?'].apply(is_linkedin_invalid)\n",
            "<ipython-input-7-5b7c2b17d77d>:28: SettingWithCopyWarning: \n",
            "A value is trying to be set on a copy of a slice from a DataFrame.\n",
            "Try using .loc[row_indexer,col_indexer] = value instead\n",
            "\n",
            "See the caveats in the documentation: https://pandas.pydata.org/pandas-docs/stable/user_guide/indexing.html#returning-a-view-versus-a-copy\n",
            "  df_cleaned['job_title_missing'] = (\n"
          ]
        }
      ],
      "source": [
        "import pandas as pd\n",
        "\n",
        "# Step 1: Load the Excel file\n",
        "file_path = \"/content/Data.xlsx\"  # Make sure this file is in the same directory as this script\n",
        "df = pd.read_excel(file_path)\n",
        "\n",
        "# Step 2: Remove duplicate email rows\n",
        "df_cleaned = df.drop_duplicates(subset='email', keep='first')\n",
        "\n",
        "# Step 3: Normalize 'has_joined_event' values (Yes/No → True/False)\n",
        "df_cleaned['has_joined_event'] = (\n",
        "    df_cleaned['has_joined_event']\n",
        "    .astype(str)\n",
        "    .str.strip()\n",
        "    .str.lower()\n",
        "    .map({'yes': True, 'no': False})\n",
        ")\n",
        "\n",
        "# Step 4: Flag rows with missing or incomplete LinkedIn profiles\n",
        "def is_linkedin_invalid(profile):\n",
        "    if pd.isna(profile) or not isinstance(profile, str):\n",
        "        return True\n",
        "    return not ('linkedin.com/in/' in profile.lower())\n",
        "\n",
        "df_cleaned['linkedin_invalid'] = df_cleaned['What is your LinkedIn profile?'].apply(is_linkedin_invalid)\n",
        "\n",
        "# Step 5: Flag rows where the job title is missing or blank\n",
        "df_cleaned['job_title_missing'] = (\n",
        "    df_cleaned['Job Title'].isna() |\n",
        "    (df_cleaned['Job Title'].astype(str).str.strip() == '')\n",
        ")\n",
        "\n",
        "# Step 6: Save the cleaned data to a new CSV file\n",
        "output_file = \"cleaned_output.csv\"\n",
        "df_cleaned.to_csv(output_file, index=False)\n",
        "\n",
        "print(f\"Data cleaning complete. File saved as: {output_file}\")\n"
      ]
    },
    {
      "cell_type": "markdown",
      "source": [
        "# Step 2: Auto-Personalized Messaging Script\n",
        "Goal:\n",
        "* Generate customized messages using name, job title, event status, and LinkedIn info\n",
        "\n",
        "Logic:\n",
        "* If joined → thank and promote tool\n",
        "* If not joined → apologize and offer another session\n",
        "* If LinkedIn missing → prompt to connect\n",
        "\n",
        "Output:\n",
        "* messages_output.csv: contains email, message\n",
        "* messages_txt/: folder with .txt files for each user"
      ],
      "metadata": {
        "id": "xQZdTYL2thV2"
      }
    },
    {
      "cell_type": "code",
      "source": [
        "import pandas as pd\n",
        "import os\n",
        "\n",
        "# Step 1: Load cleaned data\n",
        "input_file = \"/content/cleaned_output.csv\"  # Make sure this file is in the same directory\n",
        "df = pd.read_csv(input_file)\n",
        "\n",
        "# Step 2: Define a message generation function\n",
        "def generate_message(row):\n",
        "    # Use 'first_name' if present; otherwise fallback to the first word in 'name'\n",
        "    name = row.get('first_name') if pd.notna(row.get('first_name')) else str(row.get('name')).split()[0]\n",
        "    job_title = row.get('Job Title') if pd.notna(row.get('Job Title')) else \"professional\"\n",
        "    joined = row.get('has_joined_event')\n",
        "    linkedin_missing = row.get('linkedin_invalid')\n",
        "\n",
        "    # Customize message\n",
        "    if joined:\n",
        "        message = f\"Hey {name}, thanks for joining our session! As a {job_title.lower()}, we think you’ll love our upcoming AI workflow tools. Want early access?\"\n",
        "    else:\n",
        "        message = f\"Hi {name}, sorry we missed you at the last event! We’re preparing another session that might better suit your interests as a {job_title.lower()}.\"\n",
        "\n",
        "    if linkedin_missing:\n",
        "        message += \" Also, feel free to share your LinkedIn profile so we can stay connected!\"\n",
        "\n",
        "    return message\n",
        "\n",
        "# Step 3: Apply function and generate message column\n",
        "df['message'] = df.apply(generate_message, axis=1)\n",
        "\n",
        "# Step 4: Save all messages to a single CSV file\n",
        "output_csv = \"messages_output.csv\"\n",
        "df[['email', 'message']].to_csv(output_csv, index=False)\n",
        "print(f\" Messages saved to {output_csv}\")\n",
        "\n",
        "# Step 5 (Bonus): Save each message as a separate .txt file\n",
        "output_txt_folder = \"messages_txt\"\n",
        "os.makedirs(output_txt_folder, exist_ok=True)\n",
        "\n",
        "for _, row in df.iterrows():\n",
        "    name_part = row.get('first_name') or str(row.get('name')).split()[0]\n",
        "    email_part = row['email'].split('@')[0]\n",
        "    filename = f\"{name_part}_{email_part}.txt\".replace(\" \", \"_\")\n",
        "\n",
        "    with open(os.path.join(output_txt_folder, filename), \"w\") as file:\n",
        "        file.write(row['message'])\n",
        "\n",
        "print(f\"Individual messages saved in the folder: {output_txt_folder}\")\n"
      ],
      "metadata": {
        "colab": {
          "base_uri": "https://localhost:8080/"
        },
        "id": "jrXHfrTDrd7_",
        "outputId": "b5c284b3-dd5e-41f9-9ae5-c9b17a2778a6"
      },
      "execution_count": 8,
      "outputs": [
        {
          "output_type": "stream",
          "name": "stdout",
          "text": [
            " Messages saved to messages_output.csv\n",
            "Individual messages saved in the folder: messages_txt\n"
          ]
        }
      ]
    },
    {
      "cell_type": "markdown",
      "source": [
        "# Step 3 (Bonus): Optional Automation Script\n",
        "Goal:\n",
        "* Automatically send messages using Email (SMTP) or Telegram Bot"
      ],
      "metadata": {
        "id": "pLlFRulYt5_b"
      }
    },
    {
      "cell_type": "markdown",
      "source": [
        "# A. Send Emails using Gmail SMTP"
      ],
      "metadata": {
        "id": "IxNT7iIVuFYe"
      }
    },
    {
      "cell_type": "code",
      "source": [
        "import smtplib\n",
        "from email.mime.text import MIMEText\n",
        "from email.mime.multipart import MIMEMultipart\n",
        "import pandas as pd\n",
        "\n",
        "# Email config\n",
        "SMTP_SERVER = \"smtp.gmail.com\"\n",
        "SMTP_PORT = 587\n",
        "SENDER_EMAIL = \"your_email@gmail.com\"\n",
        "SENDER_PASSWORD = \"your_app_password\"  # Use an app password!\n",
        "\n",
        "# Load messages\n",
        "df = pd.read_csv(\"messages_output.csv\")\n",
        "\n",
        "def send_email(recipient_email, message_text):\n",
        "    msg = MIMEMultipart()\n",
        "    msg['From'] = SENDER_EMAIL\n",
        "    msg['To'] = recipient_email\n",
        "    msg['Subject'] = \"Thanks for attending (or missing) our event!\"\n",
        "\n",
        "    msg.attach(MIMEText(message_text, 'plain'))\n",
        "\n",
        "    with smtplib.SMTP(SMTP_SERVER, SMTP_PORT) as server:\n",
        "        server.starttls()\n",
        "        server.login(SENDER_EMAIL, SENDER_PASSWORD)\n",
        "        server.send_message(msg)\n",
        "        print(f\"✅ Email sent to {recipient_email}\")\n",
        "\n",
        "# Loop through and send\n",
        "for _, row in df.iterrows():\n",
        "    try:\n",
        "        send_email(row['email'], row['message'])\n",
        "    except Exception as e:\n",
        "        print(f\"❌ Failed to send to {row['email']}: {e}\")\n"
      ],
      "metadata": {
        "colab": {
          "base_uri": "https://localhost:8080/"
        },
        "id": "FPdpSuPyr9FH",
        "outputId": "06eb6781-b953-4587-ba55-bafdd7c185dd"
      },
      "execution_count": 4,
      "outputs": [
        {
          "output_type": "stream",
          "name": "stdout",
          "text": [
            "❌ Failed to send to *****@gmail.com: (535, b'5.7.8 Username and Password not accepted. For more information, go to\\n5.7.8  https://support.google.com/mail/?p=BadCredentials 8926c6da1cb9f-4fbcc48c897sm4427665173.98 - gsmtp')\n",
            "❌ Failed to send to *****@sirmvit.edu: (535, b'5.7.8 Username and Password not accepted. For more information, go to\\n5.7.8  https://support.google.com/mail/?p=BadCredentials ca18e2360f4ac-86a26c91a91sm419176039f.28 - gsmtp')\n",
            "❌ Failed to send to *****@student.embuni.ac.ke: (535, b'5.7.8 Username and Password not accepted. For more information, go to\\n5.7.8  https://support.google.com/mail/?p=BadCredentials 8926c6da1cb9f-4fbcc48c4d7sm4398466173.80 - gsmtp')\n",
            "❌ Failed to send to *****@joinfleek.com: (535, b'5.7.8 Username and Password not accepted. For more information, go to\\n5.7.8  https://support.google.com/mail/?p=BadCredentials 8926c6da1cb9f-4fbcc4af616sm4383795173.112 - gsmtp')\n",
            "❌ Failed to send to *****@simplelogin.co: (535, b'5.7.8 Username and Password not accepted. For more information, go to\\n5.7.8  https://support.google.com/mail/?p=BadCredentials e9e14a558f8ab-3dc79b5b4a0sm32722115ab.11 - gsmtp')\n",
            "❌ Failed to send to *****@simplilearn.net: (535, b'5.7.8 Username and Password not accepted. For more information, go to\\n5.7.8  https://support.google.com/mail/?p=BadCredentials 8926c6da1cb9f-4fbcc48c464sm4625659173.93 - gsmtp')\n",
            "❌ Failed to send to *****@homelane.com: (535, b'5.7.8 Username and Password not accepted. For more information, go to\\n5.7.8  https://support.google.com/mail/?p=BadCredentials e9e14a558f8ab-3dc879a918esm25279965ab.41 - gsmtp')\n",
            "❌ Failed to send to *****@wecreateproblems.com: (535, b'5.7.8 Username and Password not accepted. For more information, go to\\n5.7.8  https://support.google.com/mail/?p=BadCredentials ca18e2360f4ac-86a236e68ccsm428521139f.33 - gsmtp')\n",
            "❌ Failed to send to *****@sanjivani.edu.in: (535, b'5.7.8 Username and Password not accepted. For more information, go to\\n5.7.8  https://support.google.com/mail/?p=BadCredentials 8926c6da1cb9f-4fbcc38a34fsm4477090173.11 - gsmtp')\n",
            "❌ Failed to send to *****@st.ug.edu.gh: (535, b'5.7.8 Username and Password not accepted. For more information, go to\\n5.7.8  https://support.google.com/mail/?p=BadCredentials ca18e2360f4ac-86a236e898dsm427289439f.37 - gsmtp')\n",
            "❌ Failed to send to *****@yahoo.com: (535, b'5.7.8 Username and Password not accepted. For more information, go to\\n5.7.8  https://support.google.com/mail/?p=BadCredentials e9e14a558f8ab-3dc879a918esm25279995ab.41 - gsmtp')\n",
            "❌ Failed to send to *****@outlook.com: (535, b'5.7.8 Username and Password not accepted. For more information, go to\\n5.7.8  https://support.google.com/mail/?p=BadCredentials e9e14a558f8ab-3dc8e69d36asm20045925ab.32 - gsmtp')\n",
            "❌ Failed to send to *****@kogo.ai: (535, b'5.7.8 Username and Password not accepted. For more information, go to\\n5.7.8  https://support.google.com/mail/?p=BadCredentials ca18e2360f4ac-86a235bfeadsm418574839f.3 - gsmtp')\n",
            "❌ Failed to send to *****@eventex.in: (535, b'5.7.8 Username and Password not accepted. For more information, go to\\n5.7.8  https://support.google.com/mail/?p=BadCredentials 8926c6da1cb9f-4fbcc3b1a80sm4536128173.41 - gsmtp')\n",
            "❌ Failed to send to *****@hawaii.edu: (535, b'5.7.8 Username and Password not accepted. For more information, go to\\n5.7.8  https://support.google.com/mail/?p=BadCredentials e9e14a558f8ab-3dc76c160acsm35866615ab.24 - gsmtp')\n",
            "❌ Failed to send to *****@avchrono.com: (535, b'5.7.8 Username and Password not accepted. For more information, go to\\n5.7.8  https://support.google.com/mail/?p=BadCredentials 8926c6da1cb9f-4fbcc38a2bdsm4443831173.29 - gsmtp')\n",
            "❌ Failed to send to *****@swiggy.in: (535, b'5.7.8 Username and Password not accepted. For more information, go to\\n5.7.8  https://support.google.com/mail/?p=BadCredentials e9e14a558f8ab-3dc89bfeee0sm24374915ab.70 - gsmtp')\n",
            "❌ Failed to send to *****@kaksha.ai: (535, b'5.7.8 Username and Password not accepted. For more information, go to\\n5.7.8  https://support.google.com/mail/?p=BadCredentials ca18e2360f4ac-86a2372e247sm444181739f.47 - gsmtp')\n",
            "❌ Failed to send to *****@gostartr.com: (535, b'5.7.8 Username and Password not accepted. For more information, go to\\n5.7.8  https://support.google.com/mail/?p=BadCredentials 8926c6da1cb9f-4fbcc4b157asm4464660173.124 - gsmtp')\n",
            "❌ Failed to send to *****@soma.co.in: (535, b'5.7.8 Username and Password not accepted. For more information, go to\\n5.7.8  https://support.google.com/mail/?p=BadCredentials 8926c6da1cb9f-4fbcc38a8b4sm4353290173.22 - gsmtp')\n",
            "❌ Failed to send to *****@gmx.com: (535, b'5.7.8 Username and Password not accepted. For more information, go to\\n5.7.8  https://support.google.com/mail/?p=BadCredentials 8926c6da1cb9f-4fbd0c0c2cdsm4279343173.94 - gsmtp')\n",
            "❌ Failed to send to *****@streamlinedlogisticsservices.com: (535, b'5.7.8 Username and Password not accepted. For more information, go to\\n5.7.8  https://support.google.com/mail/?p=BadCredentials ca18e2360f4ac-86a235c02ddsm442787339f.4 - gsmtp')\n",
            "❌ Failed to send to *****@techioex.com: (535, b'5.7.8 Username and Password not accepted. For more information, go to\\n5.7.8  https://support.google.com/mail/?p=BadCredentials ca18e2360f4ac-86cafab0b08sm123942239f.35 - gsmtp')\n",
            "❌ Failed to send to *****@cmu.edu: (535, b'5.7.8 Username and Password not accepted. For more information, go to\\n5.7.8  https://support.google.com/mail/?p=BadCredentials e9e14a558f8ab-3dc879a918esm25280025ab.41 - gsmtp')\n",
            "❌ Failed to send to *****@genezys.io: (535, b'5.7.8 Username and Password not accepted. For more information, go to\\n5.7.8  https://support.google.com/mail/?p=BadCredentials ca18e2360f4ac-86a2360d882sm432732939f.26 - gsmtp')\n",
            "❌ Failed to send to *****@allcmkt.com.br: (535, b'5.7.8 Username and Password not accepted. For more information, go to\\n5.7.8  https://support.google.com/mail/?p=BadCredentials e9e14a558f8ab-3dd75d80cb9sm4936465ab.64 - gsmtp')\n",
            "❌ Failed to send to *****@thub.tech: (535, b'5.7.8 Username and Password not accepted. For more information, go to\\n5.7.8  https://support.google.com/mail/?p=BadCredentials ca18e2360f4ac-86a235bff4fsm432718839f.10 - gsmtp')\n",
            "❌ Failed to send to *****@rediffmail.com: (535, b'5.7.8 Username and Password not accepted. For more information, go to\\n5.7.8  https://support.google.com/mail/?p=BadCredentials e9e14a558f8ab-3dc899a580asm24445615ab.9 - gsmtp')\n",
            "❌ Failed to send to *****@itoneclick.com: (535, b'5.7.8 Username and Password not accepted. For more information, go to\\n5.7.8  https://support.google.com/mail/?p=BadCredentials ca18e2360f4ac-86a235e33c3sm444664139f.13 - gsmtp')\n",
            "❌ Failed to send to *****@nu.edu.pk: (535, b'5.7.8 Username and Password not accepted. For more information, go to\\n5.7.8  https://support.google.com/mail/?p=BadCredentials ca18e2360f4ac-86a257db708sm429987139f.7 - gsmtp')\n",
            "❌ Failed to send to *****@ciklum.com: (535, b'5.7.8 Username and Password not accepted. For more information, go to\\n5.7.8  https://support.google.com/mail/?p=BadCredentials 8926c6da1cb9f-4fbcc4afb61sm4383235173.108 - gsmtp')\n",
            "❌ Failed to send to *****@stylumia.com: (535, b'5.7.8 Username and Password not accepted. For more information, go to\\n5.7.8  https://support.google.com/mail/?p=BadCredentials e9e14a558f8ab-3dc63c1bd8bsm41238905ab.38 - gsmtp')\n",
            "❌ Failed to send to *****@stochastinc.com: (535, b'5.7.8 Username and Password not accepted. For more information, go to\\n5.7.8  https://support.google.com/mail/?p=BadCredentials ca18e2360f4ac-86a235c0171sm413785439f.6 - gsmtp')\n",
            "❌ Failed to send to *****@yahoo.co.in: (535, b'5.7.8 Username and Password not accepted. For more information, go to\\n5.7.8  https://support.google.com/mail/?p=BadCredentials e9e14a558f8ab-3db8781c346sm49895285ab.21 - gsmtp')\n",
            "❌ Failed to send to *****@northeastern.edu: (535, b'5.7.8 Username and Password not accepted. For more information, go to\\n5.7.8  https://support.google.com/mail/?p=BadCredentials e9e14a558f8ab-3dc88f188c9sm24798685ab.3 - gsmtp')\n",
            "❌ Failed to send to *****@lyzr.ai: (535, b'5.7.8 Username and Password not accepted. For more information, go to\\n5.7.8  https://support.google.com/mail/?p=BadCredentials e9e14a558f8ab-3dd7463f51csm6153435ab.33 - gsmtp')\n",
            "❌ Failed to send to *****@hotmail.com: (535, b'5.7.8 Username and Password not accepted. For more information, go to\\n5.7.8  https://support.google.com/mail/?p=BadCredentials ca18e2360f4ac-86a2550b3bfsm437802339f.27 - gsmtp')\n",
            "❌ Failed to send to *****@protonmail.com: (535, b'5.7.8 Username and Password not accepted. For more information, go to\\n5.7.8  https://support.google.com/mail/?p=BadCredentials e9e14a558f8ab-3dc9e302e66sm10691955ab.66 - gsmtp')\n",
            "❌ Failed to send to *****@aol.com: (535, b'5.7.8 Username and Password not accepted. For more information, go to\\n5.7.8  https://support.google.com/mail/?p=BadCredentials e9e14a558f8ab-3dca3183bb7sm7967865ab.50 - gsmtp')\n",
            "❌ Failed to send to *****@mksk.co.uk: (535, b'5.7.8 Username and Password not accepted. For more information, go to\\n5.7.8  https://support.google.com/mail/?p=BadCredentials 8926c6da1cb9f-4fbcc4e9147sm4391489173.133 - gsmtp')\n",
            "❌ Failed to send to *****@goodz.mx: (535, b'5.7.8 Username and Password not accepted. For more information, go to\\n5.7.8  https://support.google.com/mail/?p=BadCredentials e9e14a558f8ab-3dc899a580asm24445645ab.9 - gsmtp')\n",
            "❌ Failed to send to *****@maximail.vip: (535, b'5.7.8 Username and Password not accepted. For more information, go to\\n5.7.8  https://support.google.com/mail/?p=BadCredentials 8926c6da1cb9f-4fbcc3b1b41sm4444015173.48 - gsmtp')\n",
            "❌ Failed to send to *****@grayquest.com: (535, b'5.7.8 Username and Password not accepted. For more information, go to\\n5.7.8  https://support.google.com/mail/?p=BadCredentials ca18e2360f4ac-86a2372e247sm444182239f.47 - gsmtp')\n",
            "❌ Failed to send to *****@thinkers360.com: (535, b'5.7.8 Username and Password not accepted. For more information, go to\\n5.7.8  https://support.google.com/mail/?p=BadCredentials 8926c6da1cb9f-4fbcc48c5cdsm4467454173.84 - gsmtp')\n",
            "❌ Failed to send to *****@tranchco.com: (535, b'5.7.8 Username and Password not accepted. For more information, go to\\n5.7.8  https://support.google.com/mail/?p=BadCredentials e9e14a558f8ab-3dc879a918esm25280085ab.41 - gsmtp')\n",
            "❌ Failed to send to *****@iima.ac.in: (535, b'5.7.8 Username and Password not accepted. For more information, go to\\n5.7.8  https://support.google.com/mail/?p=BadCredentials ca18e2360f4ac-86a2360cb1esm436143139f.24 - gsmtp')\n",
            "❌ Failed to send to *****@orkastrate.co.uk: (535, b'5.7.8 Username and Password not accepted. For more information, go to\\n5.7.8  https://support.google.com/mail/?p=BadCredentials e9e14a558f8ab-3db843cfa19sm53590015ab.5 - gsmtp')\n",
            "❌ Failed to send to *****@me.com: (535, b'5.7.8 Username and Password not accepted. For more information, go to\\n5.7.8  https://support.google.com/mail/?p=BadCredentials ca18e2360f4ac-86a235c02ddsm442788039f.4 - gsmtp')\n",
            "❌ Failed to send to *****@dragons.drexel.edu: (535, b'5.7.8 Username and Password not accepted. For more information, go to\\n5.7.8  https://support.google.com/mail/?p=BadCredentials 8926c6da1cb9f-4fbcc38a2bdsm4443833173.29 - gsmtp')\n",
            "❌ Failed to send to *****@crestron.com: (535, b'5.7.8 Username and Password not accepted. For more information, go to\\n5.7.8  https://support.google.com/mail/?p=BadCredentials ca18e2360f4ac-86a236e68ccsm428522239f.33 - gsmtp')\n",
            "❌ Failed to send to *****@trypolymath.ai: (535, b'5.7.8 Username and Password not accepted. For more information, go to\\n5.7.8  https://support.google.com/mail/?p=BadCredentials e9e14a558f8ab-3dd77a12a3esm3284625ab.26 - gsmtp')\n",
            "❌ Failed to send to *****@dhiwise.com: (535, b'5.7.8 Username and Password not accepted. For more information, go to\\n5.7.8  https://support.google.com/mail/?p=BadCredentials ca18e2360f4ac-86a234dbef7sm432734739f.0 - gsmtp')\n",
            "❌ Failed to send to *****@letsaspiro.com: (535, b'5.7.8 Username and Password not accepted. For more information, go to\\n5.7.8  https://support.google.com/mail/?p=BadCredentials e9e14a558f8ab-3dc9e7d18c9sm10280495ab.53 - gsmtp')\n",
            "❌ Failed to send to *****@carboledger.com: (535, b'5.7.8 Username and Password not accepted. For more information, go to\\n5.7.8  https://support.google.com/mail/?p=BadCredentials 8926c6da1cb9f-4fbcc4b1521sm4494507173.119 - gsmtp')\n",
            "❌ Failed to send to *****@spendflo.com: (535, b'5.7.8 Username and Password not accepted. For more information, go to\\n5.7.8  https://support.google.com/mail/?p=BadCredentials 8926c6da1cb9f-4fbcc38a534sm4494388173.24 - gsmtp')\n",
            "❌ Failed to send to *****@live.com: (535, b'5.7.8 Username and Password not accepted. For more information, go to\\n5.7.8  https://support.google.com/mail/?p=BadCredentials e9e14a558f8ab-3dc86f39710sm25621095ab.0 - gsmtp')\n",
            "❌ Failed to send to *****@goml.io: (535, b'5.7.8 Username and Password not accepted. For more information, go to\\n5.7.8  https://support.google.com/mail/?p=BadCredentials ca18e2360f4ac-86a236f6ba1sm438719339f.34 - gsmtp')\n",
            "❌ Failed to send to *****@lemontreeconsulting.biz: (535, b'5.7.8 Username and Password not accepted. For more information, go to\\n5.7.8  https://support.google.com/mail/?p=BadCredentials ca18e2360f4ac-86a235e381asm433695839f.19 - gsmtp')\n",
            "❌ Failed to send to *****@alumni.brown.edu: (535, b'5.7.8 Username and Password not accepted. For more information, go to\\n5.7.8  https://support.google.com/mail/?p=BadCredentials ca18e2360f4ac-86a236e898dsm427290939f.37 - gsmtp')\n",
            "❌ Failed to send to *****@yahoo.co.uk: (535, b'5.7.8 Username and Password not accepted. For more information, go to\\n5.7.8  https://support.google.com/mail/?p=BadCredentials 8926c6da1cb9f-4fbcc3b1c85sm4421936173.55 - gsmtp')\n",
            "❌ Failed to send to *****@pranathiss.com: (535, b'5.7.8 Username and Password not accepted. For more information, go to\\n5.7.8  https://support.google.com/mail/?p=BadCredentials 8926c6da1cb9f-4fbd0c0c2cdsm4279351173.94 - gsmtp')\n",
            "❌ Failed to send to *****@shorterloop.com: (535, b'5.7.8 Username and Password not accepted. For more information, go to\\n5.7.8  https://support.google.com/mail/?p=BadCredentials 8926c6da1cb9f-4fbcc3b1ab0sm4417615173.46 - gsmtp')\n",
            "❌ Failed to send to *****@siprainc.com: (535, b'5.7.8 Username and Password not accepted. For more information, go to\\n5.7.8  https://support.google.com/mail/?p=BadCredentials e9e14a558f8ab-3dca0d1d00esm9106515ab.13 - gsmtp')\n",
            "❌ Failed to send to *****@ymail.com: (535, b'5.7.8 Username and Password not accepted. For more information, go to\\n5.7.8  https://support.google.com/mail/?p=BadCredentials ca18e2360f4ac-86a2360ca28sm440910639f.25 - gsmtp')\n",
            "❌ Failed to send to *****@icloud.com: (535, b'5.7.8 Username and Password not accepted. For more information, go to\\n5.7.8  https://support.google.com/mail/?p=BadCredentials 8926c6da1cb9f-4fbcc3ae126sm4424080173.37 - gsmtp')\n",
            "❌ Failed to send to *****@lista.cc: (535, b'5.7.8 Username and Password not accepted. For more information, go to\\n5.7.8  https://support.google.com/mail/?p=BadCredentials ca18e2360f4ac-86a2372c8f2sm430434639f.39 - gsmtp')\n",
            "❌ Failed to send to *****@email.iimcal.ac.in: (535, b'5.7.8 Username and Password not accepted. For more information, go to\\n5.7.8  https://support.google.com/mail/?p=BadCredentials 8926c6da1cb9f-4fbcc3add48sm4493460173.34 - gsmtp')\n",
            "❌ Failed to send to *****@vpersonalize.com: (535, b'5.7.8 Username and Password not accepted. For more information, go to\\n5.7.8  https://support.google.com/mail/?p=BadCredentials ca18e2360f4ac-86a235e148csm432478439f.12 - gsmtp')\n",
            "❌ Failed to send to *****@navirego.com: (535, b'5.7.8 Username and Password not accepted. For more information, go to\\n5.7.8  https://support.google.com/mail/?p=BadCredentials 8926c6da1cb9f-4fbcc4af7dcsm4350918173.107 - gsmtp')\n",
            "❌ Failed to send to *****@web-stepup.com: (535, b'5.7.8 Username and Password not accepted. For more information, go to\\n5.7.8  https://support.google.com/mail/?p=BadCredentials 8926c6da1cb9f-4fbcc38a534sm4494390173.24 - gsmtp')\n",
            "❌ Failed to send to *****@tivonaglobal.com: (535, b'5.7.8 Username and Password not accepted. For more information, go to\\n5.7.8  https://support.google.com/mail/?p=BadCredentials ca18e2360f4ac-86a235bff69sm436959539f.8 - gsmtp')\n"
          ]
        }
      ]
    },
    {
      "cell_type": "markdown",
      "source": [
        "# B. Send via Telegram Bot"
      ],
      "metadata": {
        "id": "gjHhdCZauJ42"
      }
    },
    {
      "cell_type": "code",
      "source": [
        "import requests\n",
        "import pandas as pd\n",
        "\n",
        "BOT_TOKEN = \"your_bot_token\"\n",
        "CHAT_ID = \"your_chat_id\"  # You can get this using @userinfobot\n",
        "\n",
        "# Load messages\n",
        "df = pd.read_csv(\"messages_output.csv\")\n",
        "\n",
        "def send_telegram_message(message_text):\n",
        "    url = f\"https://api.telegram.org/bot{BOT_TOKEN}/sendMessage\"\n",
        "    payload = {\n",
        "        'chat_id': CHAT_ID,\n",
        "        'text': message_text\n",
        "    }\n",
        "    response = requests.post(url, data=payload)\n",
        "    if response.status_code == 200:\n",
        "        print(\"✅ Sent to Telegram\")\n",
        "    else:\n",
        "        print(f\"❌ Telegram error: {response.text}\")\n",
        "\n",
        "# Send messages in batch\n",
        "for _, row in df.iterrows():\n",
        "    try:\n",
        "        send_telegram_message(row['message'])\n",
        "    except Exception as e:\n",
        "        print(f\"❌ Failed for {row['email']}: {e}\")\n"
      ],
      "metadata": {
        "colab": {
          "base_uri": "https://localhost:8080/"
        },
        "id": "3D2G6sCqr9ym",
        "outputId": "604a3ed7-a20f-4843-a6af-6ff7bea9573d"
      },
      "execution_count": 5,
      "outputs": [
        {
          "output_type": "stream",
          "name": "stdout",
          "text": [
            "❌ Telegram error: {\"ok\":false,\"error_code\":404,\"description\":\"Not Found\"}\n",
            "❌ Telegram error: {\"ok\":false,\"error_code\":404,\"description\":\"Not Found\"}\n",
            "❌ Telegram error: {\"ok\":false,\"error_code\":404,\"description\":\"Not Found\"}\n",
            "❌ Telegram error: {\"ok\":false,\"error_code\":404,\"description\":\"Not Found\"}\n",
            "❌ Telegram error: {\"ok\":false,\"error_code\":404,\"description\":\"Not Found\"}\n",
            "❌ Telegram error: {\"ok\":false,\"error_code\":404,\"description\":\"Not Found\"}\n",
            "❌ Telegram error: {\"ok\":false,\"error_code\":404,\"description\":\"Not Found\"}\n",
            "❌ Telegram error: {\"ok\":false,\"error_code\":404,\"description\":\"Not Found\"}\n",
            "❌ Telegram error: {\"ok\":false,\"error_code\":404,\"description\":\"Not Found\"}\n",
            "❌ Telegram error: {\"ok\":false,\"error_code\":404,\"description\":\"Not Found\"}\n",
            "❌ Telegram error: {\"ok\":false,\"error_code\":404,\"description\":\"Not Found\"}\n",
            "❌ Telegram error: {\"ok\":false,\"error_code\":404,\"description\":\"Not Found\"}\n",
            "❌ Telegram error: {\"ok\":false,\"error_code\":404,\"description\":\"Not Found\"}\n",
            "❌ Telegram error: {\"ok\":false,\"error_code\":404,\"description\":\"Not Found\"}\n",
            "❌ Telegram error: {\"ok\":false,\"error_code\":404,\"description\":\"Not Found\"}\n",
            "❌ Telegram error: {\"ok\":false,\"error_code\":404,\"description\":\"Not Found\"}\n",
            "❌ Telegram error: {\"ok\":false,\"error_code\":404,\"description\":\"Not Found\"}\n",
            "❌ Telegram error: {\"ok\":false,\"error_code\":404,\"description\":\"Not Found\"}\n",
            "❌ Telegram error: {\"ok\":false,\"error_code\":404,\"description\":\"Not Found\"}\n",
            "❌ Telegram error: {\"ok\":false,\"error_code\":404,\"description\":\"Not Found\"}\n",
            "❌ Telegram error: {\"ok\":false,\"error_code\":404,\"description\":\"Not Found\"}\n",
            "❌ Telegram error: {\"ok\":false,\"error_code\":404,\"description\":\"Not Found\"}\n",
            "❌ Telegram error: {\"ok\":false,\"error_code\":404,\"description\":\"Not Found\"}\n",
            "❌ Telegram error: {\"ok\":false,\"error_code\":404,\"description\":\"Not Found\"}\n",
            "❌ Telegram error: {\"ok\":false,\"error_code\":404,\"description\":\"Not Found\"}\n",
            "❌ Telegram error: {\"ok\":false,\"error_code\":404,\"description\":\"Not Found\"}\n",
            "❌ Telegram error: {\"ok\":false,\"error_code\":404,\"description\":\"Not Found\"}\n",
            "❌ Telegram error: {\"ok\":false,\"error_code\":404,\"description\":\"Not Found\"}\n",
            "❌ Telegram error: {\"ok\":false,\"error_code\":404,\"description\":\"Not Found\"}\n",
            "❌ Telegram error: {\"ok\":false,\"error_code\":404,\"description\":\"Not Found\"}\n",
            "❌ Telegram error: {\"ok\":false,\"error_code\":404,\"description\":\"Not Found\"}\n",
            "❌ Telegram error: {\"ok\":false,\"error_code\":404,\"description\":\"Not Found\"}\n",
            "❌ Telegram error: {\"ok\":false,\"error_code\":404,\"description\":\"Not Found\"}\n",
            "❌ Telegram error: {\"ok\":false,\"error_code\":404,\"description\":\"Not Found\"}\n",
            "❌ Telegram error: {\"ok\":false,\"error_code\":404,\"description\":\"Not Found\"}\n",
            "❌ Telegram error: {\"ok\":false,\"error_code\":404,\"description\":\"Not Found\"}\n",
            "❌ Telegram error: {\"ok\":false,\"error_code\":404,\"description\":\"Not Found\"}\n",
            "❌ Telegram error: {\"ok\":false,\"error_code\":404,\"description\":\"Not Found\"}\n",
            "❌ Telegram error: {\"ok\":false,\"error_code\":404,\"description\":\"Not Found\"}\n",
            "❌ Telegram error: {\"ok\":false,\"error_code\":404,\"description\":\"Not Found\"}\n",
            "❌ Telegram error: {\"ok\":false,\"error_code\":404,\"description\":\"Not Found\"}\n",
            "❌ Telegram error: {\"ok\":false,\"error_code\":404,\"description\":\"Not Found\"}\n",
            "❌ Telegram error: {\"ok\":false,\"error_code\":404,\"description\":\"Not Found\"}\n",
            "❌ Telegram error: {\"ok\":false,\"error_code\":404,\"description\":\"Not Found\"}\n",
            "❌ Telegram error: {\"ok\":false,\"error_code\":404,\"description\":\"Not Found\"}\n",
            "❌ Telegram error: {\"ok\":false,\"error_code\":404,\"description\":\"Not Found\"}\n",
            "❌ Telegram error: {\"ok\":false,\"error_code\":404,\"description\":\"Not Found\"}\n",
            "❌ Telegram error: {\"ok\":false,\"error_code\":404,\"description\":\"Not Found\"}\n",
            "❌ Telegram error: {\"ok\":false,\"error_code\":404,\"description\":\"Not Found\"}\n",
            "❌ Telegram error: {\"ok\":false,\"error_code\":404,\"description\":\"Not Found\"}\n",
            "❌ Telegram error: {\"ok\":false,\"error_code\":404,\"description\":\"Not Found\"}\n",
            "❌ Telegram error: {\"ok\":false,\"error_code\":404,\"description\":\"Not Found\"}\n",
            "❌ Telegram error: {\"ok\":false,\"error_code\":404,\"description\":\"Not Found\"}\n",
            "❌ Telegram error: {\"ok\":false,\"error_code\":404,\"description\":\"Not Found\"}\n",
            "❌ Telegram error: {\"ok\":false,\"error_code\":404,\"description\":\"Not Found\"}\n",
            "❌ Telegram error: {\"ok\":false,\"error_code\":404,\"description\":\"Not Found\"}\n",
            "❌ Telegram error: {\"ok\":false,\"error_code\":404,\"description\":\"Not Found\"}\n",
            "❌ Telegram error: {\"ok\":false,\"error_code\":404,\"description\":\"Not Found\"}\n",
            "❌ Telegram error: {\"ok\":false,\"error_code\":404,\"description\":\"Not Found\"}\n",
            "❌ Telegram error: {\"ok\":false,\"error_code\":404,\"description\":\"Not Found\"}\n",
            "❌ Telegram error: {\"ok\":false,\"error_code\":404,\"description\":\"Not Found\"}\n",
            "❌ Telegram error: {\"ok\":false,\"error_code\":404,\"description\":\"Not Found\"}\n",
            "❌ Telegram error: {\"ok\":false,\"error_code\":404,\"description\":\"Not Found\"}\n",
            "❌ Telegram error: {\"ok\":false,\"error_code\":404,\"description\":\"Not Found\"}\n",
            "❌ Telegram error: {\"ok\":false,\"error_code\":404,\"description\":\"Not Found\"}\n",
            "❌ Telegram error: {\"ok\":false,\"error_code\":404,\"description\":\"Not Found\"}\n",
            "❌ Telegram error: {\"ok\":false,\"error_code\":404,\"description\":\"Not Found\"}\n",
            "❌ Telegram error: {\"ok\":false,\"error_code\":404,\"description\":\"Not Found\"}\n",
            "❌ Telegram error: {\"ok\":false,\"error_code\":404,\"description\":\"Not Found\"}\n",
            "❌ Telegram error: {\"ok\":false,\"error_code\":404,\"description\":\"Not Found\"}\n",
            "❌ Telegram error: {\"ok\":false,\"error_code\":404,\"description\":\"Not Found\"}\n"
          ]
        }
      ]
    }
  ]
}